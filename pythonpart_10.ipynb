{
  "nbformat": 4,
  "nbformat_minor": 0,
  "metadata": {
    "colab": {
      "provenance": [],
      "authorship_tag": "ABX9TyMeYClf4VDCZhTiYi43DgBI",
      "include_colab_link": true
    },
    "kernelspec": {
      "name": "python3",
      "display_name": "Python 3"
    },
    "language_info": {
      "name": "python"
    }
  },
  "cells": [
    {
      "cell_type": "markdown",
      "metadata": {
        "id": "view-in-github",
        "colab_type": "text"
      },
      "source": [
        "<a href=\"https://colab.research.google.com/github/aradhya2010/C69-BOOK-SHOP/blob/main/pythonpart_10.ipynb\" target=\"_parent\"><img src=\"https://colab.research.google.com/assets/colab-badge.svg\" alt=\"Open In Colab\"/></a>"
      ]
    },
    {
      "cell_type": "code",
      "execution_count": null,
      "metadata": {
        "id": "K3F5VGVWC1_s"
      },
      "outputs": [],
      "source": [
        "#if and else statements"
      ]
    },
    {
      "cell_type": "code",
      "source": [
        "#TUPLES\n"
      ],
      "metadata": {
        "id": "LJmKjdVVyfDi"
      },
      "execution_count": null,
      "outputs": []
    },
    {
      "cell_type": "code",
      "source": [
        "mood = 'tired'\n",
        "if mood == 'tired':\n",
        "  hit_the_snooze_button = 'true'\n",
        "  print(\"aradhya is tired so she snoozes the alram button\")\n",
        "\n"
      ],
      "metadata": {
        "colab": {
          "base_uri": "https://localhost:8080/"
        },
        "id": "D1QNiz56GL3a",
        "outputId": "43e9ce66-263a-42b1-bb1c-cc5447c64688"
      },
      "execution_count": 2,
      "outputs": [
        {
          "output_type": "stream",
          "name": "stdout",
          "text": [
            "aradhya is tired so she snoozes the alram button\n"
          ]
        }
      ]
    },
    {
      "cell_type": "code",
      "source": [
        "mood = 'tired'\n",
        "\n",
        "if mood == 'tired':\n",
        "    hit_the_snooze_button = True\n",
        "    print('aradhya was tired, so she snoozes the alarm button')\n",
        "elif mood == 'well-rested':\n",
        "    get_out_of_bed = True\n",
        "    print('aradhya is well-rested, so she does not decide to snooze the alarm button')\n"
      ],
      "metadata": {
        "colab": {
          "base_uri": "https://localhost:8080/"
        },
        "id": "oSzLoDttNA2A",
        "outputId": "5c602a34-5a31-43cc-dc81-40ed3f063fb9"
      },
      "execution_count": 14,
      "outputs": [
        {
          "output_type": "stream",
          "name": "stdout",
          "text": [
            "aradhya was tired, so she snoozes the alarm button\n"
          ]
        }
      ]
    },
    {
      "cell_type": "code",
      "source": [
        "mood = 'tired'\n",
        "\n",
        "if mood == 'tired':\n",
        "    hit_the_snooze_button = True\n",
        "    print('aradhya was tired, so she snoozes the alarm button')\n",
        "elif mood == 'rested':\n",
        "    hit_the_snooze_button = false\n",
        "    print('aradhya is well-rested, so she does not decide to snooze the alarm button')\n"
      ],
      "metadata": {
        "colab": {
          "base_uri": "https://localhost:8080/"
        },
        "id": "b0qonXnxNY80",
        "outputId": "66653dc6-267c-4304-a5a9-158c5379456f"
      },
      "execution_count": 15,
      "outputs": [
        {
          "output_type": "stream",
          "name": "stdout",
          "text": [
            "aradhya was tired, so she snoozes the alarm button\n"
          ]
        }
      ]
    }
  ]
}